{
 "cells": [
  {
   "cell_type": "markdown",
   "metadata": {},
   "source": [
    "<h3>Q9</h3>"
   ]
  },
  {
   "cell_type": "code",
   "execution_count": 1,
   "metadata": {},
   "outputs": [],
   "source": [
    "def Extract(Names):\n",
    "    for name in Names:\n",
    "        if len(name)>4:\n",
    "            print(name[0]+name[-1])"
   ]
  },
  {
   "cell_type": "code",
   "execution_count": 2,
   "metadata": {},
   "outputs": [
    {
     "name": "stdout",
     "output_type": "stream",
     "text": [
      "AM\n",
      "KA\n",
      "AY\n"
     ]
    }
   ],
   "source": [
    "Extract([\"ANANYAM\",\"NITA\",\"KRITIKA\",\"ARADHYAAY\"])"
   ]
  },
  {
   "cell_type": "markdown",
   "metadata": {},
   "source": [
    "<h3>Q10</h3>"
   ]
  },
  {
   "cell_type": "code",
   "execution_count": 10,
   "metadata": {},
   "outputs": [],
   "source": [
    "def HalfSwap(L):\n",
    "    l=len(L)//2\n",
    "    if len(L)%2==0:\n",
    "        start=0\n",
    "    else:\n",
    "        start=1\n",
    "    for i in range(l):\n",
    "        temp=L[i]\n",
    "        L[i]=L[i+l+start]\n",
    "        L[i+l+start]=temp\n",
    "    print(L)\n"
   ]
  },
  {
   "cell_type": "code",
   "execution_count": 12,
   "metadata": {},
   "outputs": [
    {
     "name": "stdout",
     "output_type": "stream",
     "text": [
      "[5, 6, 7, 4, 1, 2, 3]\n"
     ]
    }
   ],
   "source": [
    "HalfSwap([1,2,3,4,5,6,7])"
   ]
  },
  {
   "cell_type": "markdown",
   "metadata": {},
   "source": [
    "<h3>Q11</h3>"
   ]
  },
  {
   "cell_type": "code",
   "execution_count": 54,
   "metadata": {},
   "outputs": [],
   "source": [
    "def BigValues(D):\n",
    "    keys=tuple(D.keys())\n",
    "    values=tuple(D.values())\n",
    "    Max=0\n",
    "    MaxValue=\"\"\n",
    "    for i in values:\n",
    "        if len(i)>Max:\n",
    "            Max=len(i)\n",
    "            MaxValue=i\n",
    "    search=values.index(MaxValue)\n",
    "    print(keys[search],values[search])"
   ]
  },
  {
   "cell_type": "code",
   "execution_count": 55,
   "metadata": {},
   "outputs": [
    {
     "name": "stdout",
     "output_type": "stream",
     "text": [
      "1 Green\n"
     ]
    }
   ],
   "source": [
    "BigValues({1:\"Green\",2:[10,20,30],3:(2,4)})"
   ]
  },
  {
   "cell_type": "markdown",
   "metadata": {},
   "source": [
    "<h3>"
   ]
  },
  {
   "cell_type": "markdown",
   "metadata": {},
   "source": [
    "<h3>Q12</h3>"
   ]
  },
  {
   "cell_type": "code",
   "execution_count": 66,
   "metadata": {},
   "outputs": [],
   "source": [
    "def Shift(S):\n",
    "    new=(S)[::-1][0]+(S)[:-1]\n",
    "    print(new)"
   ]
  },
  {
   "cell_type": "code",
   "execution_count": 68,
   "metadata": {},
   "outputs": [
    {
     "name": "stdout",
     "output_type": "stream",
     "text": [
      "$HELLO\n"
     ]
    }
   ],
   "source": [
    "Shift(\"HELLO$\")"
   ]
  },
  {
   "cell_type": "markdown",
   "metadata": {},
   "source": [
    "<h3>Q13</h3>"
   ]
  },
  {
   "cell_type": "code",
   "execution_count": 77,
   "metadata": {},
   "outputs": [],
   "source": [
    "def Sequence(N):\n",
    "    num=1\n",
    "    gap=3\n",
    "    print(num)\n",
    "    for i in (range(N-1)):\n",
    "        sum=num+gap\n",
    "        print(sum)\n",
    "        num=sum\n",
    "        gap+=1"
   ]
  },
  {
   "cell_type": "code",
   "execution_count": 76,
   "metadata": {},
   "outputs": [
    {
     "name": "stdout",
     "output_type": "stream",
     "text": [
      "1\n",
      "4\n",
      "8\n",
      "13\n",
      "19\n",
      "26\n"
     ]
    }
   ],
   "source": [
    "Sequence(6)"
   ]
  },
  {
   "cell_type": "markdown",
   "metadata": {},
   "source": [
    "<h3>Q14</h3>"
   ]
  },
  {
   "cell_type": "code",
   "execution_count": 86,
   "metadata": {},
   "outputs": [],
   "source": [
    "def ALTERNATE_WORD():\n",
    "    f=open(\"NOTES.txt\",'r')\n",
    "    stuff=f.read()\n",
    "    stuff=stuff.split()\n",
    "    for i in range(0,len(stuff),2):\n",
    "        print(stuff[i])"
   ]
  },
  {
   "cell_type": "code",
   "execution_count": 85,
   "metadata": {},
   "outputs": [
    {
     "name": "stdout",
     "output_type": "stream",
     "text": [
      "We\n",
      "children\n",
      "play\n"
     ]
    }
   ],
   "source": [
    "ALTERNATE_WORD()"
   ]
  },
  {
   "cell_type": "markdown",
   "metadata": {},
   "source": [
    "<h3>Q15</h3>"
   ]
  },
  {
   "cell_type": "code",
   "execution_count": 91,
   "metadata": {},
   "outputs": [],
   "source": [
    "def RevLine():\n",
    "    f=open(\"letter.txt\",\"r\")\n",
    "    lines=f.readlines()\n",
    "    for line in lines:\n",
    "        print(line[::-1])"
   ]
  },
  {
   "cell_type": "code",
   "execution_count": 92,
   "metadata": {},
   "outputs": [
    {
     "name": "stdout",
     "output_type": "stream",
     "text": [
      "\n",
      ".edistuo gniniar s’tI\n",
      "\n",
      ".allerbmu na yrrac dluohs eW\n"
     ]
    }
   ],
   "source": [
    "RevLine()"
   ]
  },
  {
   "cell_type": "markdown",
   "metadata": {},
   "source": [
    "<h3>Q16</h3>"
   ]
  },
  {
   "cell_type": "code",
   "execution_count": null,
   "metadata": {},
   "outputs": [],
   "source": [
    "import pickle\n",
    "def Display():\n",
    "    comedy_list=[]\n",
    "    f=open(\"movie.dat\",\"rb\")\n",
    "    data=pickle.load(f)\n",
    "    for item in data:\n",
    "        if item[-1]==\"Comedy\":\n",
    "            comedy_list.append(item)\n",
    "    print(comedy_list)\n",
    "    f.close()"
   ]
  },
  {
   "cell_type": "markdown",
   "metadata": {},
   "source": [
    "<h3>Q17</h3>"
   ]
  },
  {
   "cell_type": "code",
   "execution_count": 144,
   "metadata": {},
   "outputs": [],
   "source": [
    "def Delete():\n",
    "    import pickle\n",
    "    f=open(\"Student.dat\",\"rb+\")\n",
    "    data=pickle.load(f)\n",
    "    new=[]\n",
    "    for i in range(len(data)):\n",
    "        agg=int(data[i][-1])\n",
    "        if agg>=33:\n",
    "            new.append(data[i])\n",
    "    f.seek(0)\n",
    "    pickle.dump(new,f)\n",
    "    f.close()"
   ]
  },
  {
   "cell_type": "markdown",
   "metadata": {},
   "source": [
    "<h3>Q18</h3>"
   ]
  },
  {
   "cell_type": "code",
   "execution_count": 148,
   "metadata": {},
   "outputs": [],
   "source": [
    "def Copy():\n",
    "    import pickle\n",
    "    f=open(\"Travel.dat\",\"rb\")\n",
    "    data=pickle.load(f)\n",
    "    f.close()\n",
    "    g=open(\"Copy.dat\",\"wb\")\n",
    "    pickle.dump(data,g)\n",
    "    g.close()"
   ]
  },
  {
   "cell_type": "code",
   "execution_count": 149,
   "metadata": {},
   "outputs": [],
   "source": [
    "Copy()"
   ]
  }
 ],
 "metadata": {
  "kernelspec": {
   "display_name": "Python 3.9.12 ('base')",
   "language": "python",
   "name": "python3"
  },
  "language_info": {
   "codemirror_mode": {
    "name": "ipython",
    "version": 3
   },
   "file_extension": ".py",
   "mimetype": "text/x-python",
   "name": "python",
   "nbconvert_exporter": "python",
   "pygments_lexer": "ipython3",
   "version": "3.9.12"
  },
  "orig_nbformat": 4,
  "vscode": {
   "interpreter": {
    "hash": "daba84b9011790cc9eaf4cc21f3efb4c679e43558c1b80abd9638a9f3765cdfc"
   }
  }
 },
 "nbformat": 4,
 "nbformat_minor": 2
}
